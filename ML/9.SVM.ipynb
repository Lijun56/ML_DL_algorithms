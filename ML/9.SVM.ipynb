{
 "cells": [
  {
   "cell_type": "markdown",
   "metadata": {},
   "source": [
    "SVM(support vector machine)\n",
    "can be used in both classification and regression\n",
    "- how implement in classification problem:\n",
    "1. find maximum margin arae between two marginal line or hyperplain between two class\n",
    "2. craft the line(in 2D, and plain in 3D, hyperplain in higher) as division line at the middle of the margin area to divide class\n",
    "To know:\n",
    " 1. support vectors, the cloest data points to either marginal plain\n",
    "\n",
    "Soft margin: two class have overlaps(in the real world scenario), CAN NOT have perfect fit model\n",
    "Hard Margin: perfect fit model with no error, clearly divide two class \n"
   ]
  }
 ],
 "metadata": {
  "language_info": {
   "name": "python"
  }
 },
 "nbformat": 4,
 "nbformat_minor": 2
}
