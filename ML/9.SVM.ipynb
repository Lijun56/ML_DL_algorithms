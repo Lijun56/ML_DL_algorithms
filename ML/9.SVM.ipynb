{
 "cells": [
  {
   "cell_type": "markdown",
   "metadata": {},
   "source": [
    "SVM(support vector machine)\n",
    "can be used in both classification and regression\n",
    "how implement in classification problem:\n",
    "    1. find area that have no data points\n",
    "    2. the middle of the area is the division line(the line far from two classes)"
   ]
  }
 ],
 "metadata": {
  "language_info": {
   "name": "python"
  }
 },
 "nbformat": 4,
 "nbformat_minor": 2
}
